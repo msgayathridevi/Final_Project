{
 "cells": [
  {
   "cell_type": "code",
   "execution_count": 1,
   "metadata": {},
   "outputs": [
    {
     "data": {
      "application/javascript": [
       "IPython.notebook.set_autosave_interval(1000)"
      ]
     },
     "metadata": {},
     "output_type": "display_data"
    },
    {
     "name": "stdout",
     "output_type": "stream",
     "text": [
      "Autosaving every 1 seconds\n"
     ]
    }
   ],
   "source": [
    "%autosave 1"
   ]
  },
  {
   "cell_type": "code",
   "execution_count": 2,
   "metadata": {},
   "outputs": [],
   "source": [
    "import pandas as pd\n",
    "import numpy as np\n",
    "import warnings\n",
    "warnings.filterwarnings(\"ignore\")"
   ]
  },
  {
   "cell_type": "code",
   "execution_count": 3,
   "metadata": {},
   "outputs": [
    {
     "data": {
      "text/html": [
       "<div>\n",
       "<style scoped>\n",
       "    .dataframe tbody tr th:only-of-type {\n",
       "        vertical-align: middle;\n",
       "    }\n",
       "\n",
       "    .dataframe tbody tr th {\n",
       "        vertical-align: top;\n",
       "    }\n",
       "\n",
       "    .dataframe thead th {\n",
       "        text-align: right;\n",
       "    }\n",
       "</style>\n",
       "<table border=\"1\" class=\"dataframe\">\n",
       "  <thead>\n",
       "    <tr style=\"text-align: right;\">\n",
       "      <th></th>\n",
       "      <th>_ID</th>\n",
       "      <th>NAME</th>\n",
       "      <th>EMAIL</th>\n",
       "      <th>DESIGNATION</th>\n",
       "      <th>APPROVER</th>\n",
       "      <th>APPROVAL</th>\n",
       "      <th>STATUS</th>\n",
       "      <th>SKILLS</th>\n",
       "      <th>ORGANIZATION</th>\n",
       "      <th>DURATIONINWEEKS</th>\n",
       "      <th>PROJECTNAME</th>\n",
       "      <th>YEARS</th>\n",
       "      <th>SKILLSGAINED</th>\n",
       "      <th>MENTOR</th>\n",
       "      <th>CLIENT</th>\n",
       "      <th>SKILLMODE</th>\n",
       "    </tr>\n",
       "  </thead>\n",
       "  <tbody>\n",
       "    <tr>\n",
       "      <th>1819</th>\n",
       "      <td>6615416bf18a366646f02171</td>\n",
       "      <td>Laura Miller</td>\n",
       "      <td>boonekurt@example.org</td>\n",
       "      <td>Technology Solution Enabler</td>\n",
       "      <td>Laura Miller</td>\n",
       "      <td>Erin Munoz</td>\n",
       "      <td>deny</td>\n",
       "      <td>React</td>\n",
       "      <td>Summers, Rodriguez and Turner</td>\n",
       "      <td>46</td>\n",
       "      <td>Serverless Backend Development with AWS Lambda...</td>\n",
       "      <td>1</td>\n",
       "      <td>Alteryx</td>\n",
       "      <td>Cassie Erickson</td>\n",
       "      <td>Camacho-Owens</td>\n",
       "      <td>youtube</td>\n",
       "    </tr>\n",
       "    <tr>\n",
       "      <th>1820</th>\n",
       "      <td>6615416bf18a366646f02171</td>\n",
       "      <td>Laura Miller</td>\n",
       "      <td>boonekurt@example.org</td>\n",
       "      <td>Technology Solution Enabler</td>\n",
       "      <td>Laura Miller</td>\n",
       "      <td>Heather Dunlap</td>\n",
       "      <td>deny</td>\n",
       "      <td>Project Mgmt</td>\n",
       "      <td>Quinn, Guzman and Thomas</td>\n",
       "      <td>8</td>\n",
       "      <td>Serverless Backend Development with AWS Lambda...</td>\n",
       "      <td>1</td>\n",
       "      <td>Alteryx</td>\n",
       "      <td>Cassie Erickson</td>\n",
       "      <td>Camacho-Owens</td>\n",
       "      <td>youtube</td>\n",
       "    </tr>\n",
       "    <tr>\n",
       "      <th>1821</th>\n",
       "      <td>6615416bf18a366646f02171</td>\n",
       "      <td>Laura Miller</td>\n",
       "      <td>boonekurt@example.org</td>\n",
       "      <td>Technology Solution Enabler</td>\n",
       "      <td>Laura Miller</td>\n",
       "      <td>Erin Munoz</td>\n",
       "      <td>deny</td>\n",
       "      <td>React</td>\n",
       "      <td>Quinn, Guzman and Thomas</td>\n",
       "      <td>8</td>\n",
       "      <td>Serverless Backend Development with AWS Lambda...</td>\n",
       "      <td>1</td>\n",
       "      <td>Alteryx</td>\n",
       "      <td>Cassie Erickson</td>\n",
       "      <td>Camacho-Owens</td>\n",
       "      <td>youtube</td>\n",
       "    </tr>\n",
       "    <tr>\n",
       "      <th>1822</th>\n",
       "      <td>6615416bf18a366646f02171</td>\n",
       "      <td>Laura Miller</td>\n",
       "      <td>boonekurt@example.org</td>\n",
       "      <td>Technology Solution Enabler</td>\n",
       "      <td>Laura Miller</td>\n",
       "      <td>Heather Dunlap</td>\n",
       "      <td>deny</td>\n",
       "      <td>Project Mgmt</td>\n",
       "      <td>Quinn, Guzman and Thomas</td>\n",
       "      <td>8</td>\n",
       "      <td>Serverless Backend Development with AWS Lambda...</td>\n",
       "      <td>1</td>\n",
       "      <td>Alteryx</td>\n",
       "      <td>Cassie Erickson</td>\n",
       "      <td>Camacho-Owens</td>\n",
       "      <td>youtube</td>\n",
       "    </tr>\n",
       "    <tr>\n",
       "      <th>1823</th>\n",
       "      <td>6615416bf18a366646f02171</td>\n",
       "      <td>Laura Miller</td>\n",
       "      <td>boonekurt@example.org</td>\n",
       "      <td>Technology Solution Enabler</td>\n",
       "      <td>Laura Miller</td>\n",
       "      <td>Erin Munoz</td>\n",
       "      <td>deny</td>\n",
       "      <td>React</td>\n",
       "      <td>Quinn, Guzman and Thomas</td>\n",
       "      <td>8</td>\n",
       "      <td>Serverless Backend Development with AWS Lambda...</td>\n",
       "      <td>1</td>\n",
       "      <td>Alteryx</td>\n",
       "      <td>Cassie Erickson</td>\n",
       "      <td>Camacho-Owens</td>\n",
       "      <td>youtube</td>\n",
       "    </tr>\n",
       "  </tbody>\n",
       "</table>\n",
       "</div>"
      ],
      "text/plain": [
       "                           _ID          NAME                  EMAIL  \\\n",
       "1819  6615416bf18a366646f02171  Laura Miller  boonekurt@example.org   \n",
       "1820  6615416bf18a366646f02171  Laura Miller  boonekurt@example.org   \n",
       "1821  6615416bf18a366646f02171  Laura Miller  boonekurt@example.org   \n",
       "1822  6615416bf18a366646f02171  Laura Miller  boonekurt@example.org   \n",
       "1823  6615416bf18a366646f02171  Laura Miller  boonekurt@example.org   \n",
       "\n",
       "                      DESIGNATION      APPROVER        APPROVAL STATUS  \\\n",
       "1819  Technology Solution Enabler  Laura Miller      Erin Munoz   deny   \n",
       "1820  Technology Solution Enabler  Laura Miller  Heather Dunlap   deny   \n",
       "1821  Technology Solution Enabler  Laura Miller      Erin Munoz   deny   \n",
       "1822  Technology Solution Enabler  Laura Miller  Heather Dunlap   deny   \n",
       "1823  Technology Solution Enabler  Laura Miller      Erin Munoz   deny   \n",
       "\n",
       "            SKILLS                   ORGANIZATION  DURATIONINWEEKS  \\\n",
       "1819         React  Summers, Rodriguez and Turner               46   \n",
       "1820  Project Mgmt       Quinn, Guzman and Thomas                8   \n",
       "1821         React       Quinn, Guzman and Thomas                8   \n",
       "1822  Project Mgmt       Quinn, Guzman and Thomas                8   \n",
       "1823         React       Quinn, Guzman and Thomas                8   \n",
       "\n",
       "                                            PROJECTNAME  YEARS SKILLSGAINED  \\\n",
       "1819  Serverless Backend Development with AWS Lambda...      1      Alteryx   \n",
       "1820  Serverless Backend Development with AWS Lambda...      1      Alteryx   \n",
       "1821  Serverless Backend Development with AWS Lambda...      1      Alteryx   \n",
       "1822  Serverless Backend Development with AWS Lambda...      1      Alteryx   \n",
       "1823  Serverless Backend Development with AWS Lambda...      1      Alteryx   \n",
       "\n",
       "               MENTOR         CLIENT SKILLMODE  \n",
       "1819  Cassie Erickson  Camacho-Owens   youtube  \n",
       "1820  Cassie Erickson  Camacho-Owens   youtube  \n",
       "1821  Cassie Erickson  Camacho-Owens   youtube  \n",
       "1822  Cassie Erickson  Camacho-Owens   youtube  \n",
       "1823  Cassie Erickson  Camacho-Owens   youtube  "
      ]
     },
     "execution_count": 3,
     "metadata": {},
     "output_type": "execute_result"
    }
   ],
   "source": [
    "df = pd.read_csv('ALLDATA.csv')\n",
    "df.tail()"
   ]
  },
  {
   "cell_type": "code",
   "execution_count": 4,
   "metadata": {},
   "outputs": [
    {
     "data": {
      "text/plain": [
       "(1824, 16)"
      ]
     },
     "execution_count": 4,
     "metadata": {},
     "output_type": "execute_result"
    }
   ],
   "source": [
    "df.shape"
   ]
  },
  {
   "cell_type": "code",
   "execution_count": 5,
   "metadata": {},
   "outputs": [],
   "source": [
    "df = df.drop(columns=['_ID', 'NAME', 'EMAIL', 'APPROVER', 'APPROVAL', 'CLIENT', 'MENTOR', 'ORGANIZATION'], axis=1)"
   ]
  },
  {
   "cell_type": "code",
   "execution_count": 6,
   "metadata": {},
   "outputs": [],
   "source": [
    "from sklearn.cluster import KMeans, AgglomerativeClustering\n",
    "from scipy.cluster.hierarchy import dendrogram, linkage\n",
    "import matplotlib.pyplot as plt\n",
    "from sklearn.preprocessing import LabelEncoder"
   ]
  },
  {
   "cell_type": "code",
   "execution_count": 7,
   "metadata": {},
   "outputs": [
    {
     "data": {
      "text/plain": [
       "DESIGNATION        object\n",
       "STATUS             object\n",
       "SKILLS             object\n",
       "DURATIONINWEEKS     int64\n",
       "PROJECTNAME        object\n",
       "YEARS               int64\n",
       "SKILLSGAINED       object\n",
       "SKILLMODE          object\n",
       "dtype: object"
      ]
     },
     "execution_count": 7,
     "metadata": {},
     "output_type": "execute_result"
    }
   ],
   "source": [
    "df.dtypes"
   ]
  },
  {
   "cell_type": "code",
   "execution_count": 8,
   "metadata": {},
   "outputs": [
    {
     "name": "stdout",
     "output_type": "stream",
     "text": [
      "['DESIGNATION', 'STATUS', 'SKILLS', 'PROJECTNAME', 'SKILLSGAINED', 'SKILLMODE']\n"
     ]
    }
   ],
   "source": [
    "object_columns = df.select_dtypes(include=['object']).columns.tolist()\n",
    "print(object_columns)"
   ]
  },
  {
   "cell_type": "code",
   "execution_count": 9,
   "metadata": {},
   "outputs": [
    {
     "name": "stdout",
     "output_type": "stream",
     "text": [
      "Unique values for column 'DESIGNATION': ['Technology Solution Consultant' 'Sr. Software Engineer' 'Delivery Head'\n",
      " 'Software Engineer' 'Project Manager' 'Technology Solution Architect'\n",
      " 'Technology Solution Enabler']\n",
      "Unique values for column 'STATUS': ['approved' 'pending' 'deny']\n",
      "Unique values for column 'SKILLS': ['Project Mgmt' 'Alteryx' 'Python' 'ADF' 'React' 'React Native'\n",
      " 'Snowflake' 'AWS Lambda' 'Power BI' 'PHP' 'Presenting' 'AWS' 'Slides'\n",
      " 'Angular']\n",
      "Unique values for column 'PROJECTNAME': ['Snowflake Data Warehouse Migration and Integration'\n",
      " 'Creating Interactive Presentations with Slides and React'\n",
      " 'Real-time Dashboard Development with Power BI and Snowflake'\n",
      " 'Serverless Backend Development with AWS Lambda and Python'\n",
      " 'Building a Serverless Web Application with AWS, React, and AWS Lambda'\n",
      " 'Data Visualization Platform Development with Power BI and React'\n",
      " 'Data Analysis Automation with Python and Alteryx'\n",
      " 'Mobile App Development using React Native and AWS Amplify'\n",
      " 'ETL Pipeline Implementation with ADF and Snowflake'\n",
      " 'Data Integration Automation using Alteryx and AWS Lambda']\n",
      "Unique values for column 'SKILLSGAINED': ['Power BI' 'React' 'React Native' 'AWS Lambda' 'AWS' 'Angular'\n",
      " 'Project Mgmt' 'Slides' 'ADF' 'Alteryx']\n",
      "Unique values for column 'SKILLMODE': ['youtube' 'previouslyGained' 'collaborativeLearning' 'personalProjects']\n"
     ]
    }
   ],
   "source": [
    "object_columns = df.select_dtypes(include=['object']).columns\n",
    "\n",
    "for column in object_columns:\n",
    "    unique_values = df[column].unique()\n",
    "    print(f\"Unique values for column '{column}': {unique_values}\")\n"
   ]
  },
  {
   "cell_type": "code",
   "execution_count": 10,
   "metadata": {},
   "outputs": [
    {
     "data": {
      "text/plain": [
       "array(['Technology Solution Consultant', 'Sr. Software Engineer',\n",
       "       'Delivery Head', 'Software Engineer', 'Project Manager',\n",
       "       'Technology Solution Architect', 'Technology Solution Enabler'],\n",
       "      dtype=object)"
      ]
     },
     "execution_count": 10,
     "metadata": {},
     "output_type": "execute_result"
    }
   ],
   "source": [
    "df['DESIGNATION'].unique()"
   ]
  },
  {
   "cell_type": "code",
   "execution_count": 11,
   "metadata": {},
   "outputs": [],
   "source": [
    "designation_mapping = {\n",
    "    'Technology Solution Consultant': 1,\n",
    "    'Sr. Software Engineer': 2,\n",
    "    'Delivery Head': 3,\n",
    "    'Software Engineer': 4,\n",
    "    'Project Manager': 5,\n",
    "    'Technology Solution Architect': 6,\n",
    "    'Technology Solution Enabler': 7\n",
    "}\n",
    "\n",
    "df['DESIGNATION'] = df['DESIGNATION'].map(designation_mapping)\n",
    "df['STATUS'] = df['STATUS'].replace({'approved': 1, 'pending': 2, 'deny': 3})"
   ]
  },
  {
   "cell_type": "code",
   "execution_count": 12,
   "metadata": {},
   "outputs": [],
   "source": [
    "skill_mapping = {\n",
    "    'Project Mgmt': 1,\n",
    "    'Alteryx': 2,\n",
    "    'Python': 3,\n",
    "    'ADF': 4,\n",
    "    'React': 5,\n",
    "    'React Native': 6,\n",
    "    'Snowflake': 7,\n",
    "    'AWS Lambda': 8,\n",
    "    'Power BI': 9,\n",
    "    'PHP': 10,\n",
    "    'Presenting': 11,\n",
    "    'AWS': 12,\n",
    "    'Slides': 13,\n",
    "    'Angular': 14\n",
    "}\n",
    "df['SKILLS'] = df['SKILLS'].replace(skill_mapping)"
   ]
  },
  {
   "cell_type": "code",
   "execution_count": 13,
   "metadata": {},
   "outputs": [],
   "source": [
    "project_mapping = {\n",
    "    'Snowflake Data Warehouse Migration and Integration': 1,\n",
    "    'Creating Interactive Presentations with Slides and React': 2,\n",
    "    'Real-time Dashboard Development with Power BI and Snowflake': 3,\n",
    "    'Serverless Backend Development with AWS Lambda and Python': 4,\n",
    "    'Building a Serverless Web Application with AWS, React, and AWS Lambda': 5,\n",
    "    'Data Visualization Platform Development with Power BI and React': 6,\n",
    "    'Data Analysis Automation with Python and Alteryx': 7,\n",
    "    'Mobile App Development using React Native and AWS Amplify': 8,\n",
    "    'ETL Pipeline Implementation with ADF and Snowflake': 9,\n",
    "    'Data Integration Automation using Alteryx and AWS Lambda': 10\n",
    "}\n",
    "\n",
    "df['PROJECTNAME'] = df['PROJECTNAME'].replace(project_mapping)"
   ]
  },
  {
   "cell_type": "code",
   "execution_count": 14,
   "metadata": {},
   "outputs": [],
   "source": [
    "skills_mapping = {\n",
    "    'Power BI': 1,\n",
    "    'React': 2,\n",
    "    'React Native': 3,\n",
    "    'AWS Lambda': 4,\n",
    "    'AWS': 5,\n",
    "    'Angular': 6,\n",
    "    'Project Mgmt': 7,\n",
    "    'Slides': 8,\n",
    "    'ADF': 9,\n",
    "    'Alteryx': 10\n",
    "}\n",
    "\n",
    "df['SKILLSGAINED'] = df['SKILLSGAINED'].replace(skills_mapping)\n"
   ]
  },
  {
   "cell_type": "code",
   "execution_count": 15,
   "metadata": {},
   "outputs": [],
   "source": [
    "skills_mapping = {\n",
    "    'Power BI': 1,\n",
    "    'React': 2,\n",
    "    'React Native': 3,\n",
    "    'AWS Lambda': 4,\n",
    "    'AWS': 5,\n",
    "    'Angular': 6,\n",
    "    'Project Mgmt': 7,\n",
    "    'Slides': 8,\n",
    "    'ADF': 9,\n",
    "    'Alteryx': 10\n",
    "}\n",
    "\n",
    "df['SKILLSGAINED'] = df['SKILLSGAINED'].replace(skills_mapping)"
   ]
  },
  {
   "cell_type": "code",
   "execution_count": 16,
   "metadata": {},
   "outputs": [],
   "source": [
    "df['SKILLMODE'] = df['SKILLMODE'].replace({\n",
    "    'youtube': 1,\n",
    "    'previouslyGained': 2,\n",
    "    'collaborativeLearning': 3,\n",
    "    'personalProjects': 4\n",
    "})"
   ]
  },
  {
   "cell_type": "code",
   "execution_count": 17,
   "metadata": {},
   "outputs": [],
   "source": [
    "# label_encoder = LabelEncoder()\n",
    "\n",
    "# for column in df.columns:\n",
    "#     if df[column].dtype == 'object':\n",
    "#         df[column] = label_encoder.fit_transform(df[column])"
   ]
  },
  {
   "cell_type": "code",
   "execution_count": 18,
   "metadata": {},
   "outputs": [
    {
     "data": {
      "text/html": [
       "<div>\n",
       "<style scoped>\n",
       "    .dataframe tbody tr th:only-of-type {\n",
       "        vertical-align: middle;\n",
       "    }\n",
       "\n",
       "    .dataframe tbody tr th {\n",
       "        vertical-align: top;\n",
       "    }\n",
       "\n",
       "    .dataframe thead th {\n",
       "        text-align: right;\n",
       "    }\n",
       "</style>\n",
       "<table border=\"1\" class=\"dataframe\">\n",
       "  <thead>\n",
       "    <tr style=\"text-align: right;\">\n",
       "      <th></th>\n",
       "      <th>DESIGNATION</th>\n",
       "      <th>STATUS</th>\n",
       "      <th>SKILLS</th>\n",
       "      <th>DURATIONINWEEKS</th>\n",
       "      <th>PROJECTNAME</th>\n",
       "      <th>YEARS</th>\n",
       "      <th>SKILLSGAINED</th>\n",
       "      <th>SKILLMODE</th>\n",
       "    </tr>\n",
       "  </thead>\n",
       "  <tbody>\n",
       "    <tr>\n",
       "      <th>1819</th>\n",
       "      <td>7</td>\n",
       "      <td>3</td>\n",
       "      <td>5</td>\n",
       "      <td>46</td>\n",
       "      <td>4</td>\n",
       "      <td>1</td>\n",
       "      <td>10</td>\n",
       "      <td>1</td>\n",
       "    </tr>\n",
       "    <tr>\n",
       "      <th>1820</th>\n",
       "      <td>7</td>\n",
       "      <td>3</td>\n",
       "      <td>1</td>\n",
       "      <td>8</td>\n",
       "      <td>4</td>\n",
       "      <td>1</td>\n",
       "      <td>10</td>\n",
       "      <td>1</td>\n",
       "    </tr>\n",
       "    <tr>\n",
       "      <th>1821</th>\n",
       "      <td>7</td>\n",
       "      <td>3</td>\n",
       "      <td>5</td>\n",
       "      <td>8</td>\n",
       "      <td>4</td>\n",
       "      <td>1</td>\n",
       "      <td>10</td>\n",
       "      <td>1</td>\n",
       "    </tr>\n",
       "    <tr>\n",
       "      <th>1822</th>\n",
       "      <td>7</td>\n",
       "      <td>3</td>\n",
       "      <td>1</td>\n",
       "      <td>8</td>\n",
       "      <td>4</td>\n",
       "      <td>1</td>\n",
       "      <td>10</td>\n",
       "      <td>1</td>\n",
       "    </tr>\n",
       "    <tr>\n",
       "      <th>1823</th>\n",
       "      <td>7</td>\n",
       "      <td>3</td>\n",
       "      <td>5</td>\n",
       "      <td>8</td>\n",
       "      <td>4</td>\n",
       "      <td>1</td>\n",
       "      <td>10</td>\n",
       "      <td>1</td>\n",
       "    </tr>\n",
       "  </tbody>\n",
       "</table>\n",
       "</div>"
      ],
      "text/plain": [
       "      DESIGNATION  STATUS  SKILLS  DURATIONINWEEKS  PROJECTNAME  YEARS  \\\n",
       "1819            7       3       5               46            4      1   \n",
       "1820            7       3       1                8            4      1   \n",
       "1821            7       3       5                8            4      1   \n",
       "1822            7       3       1                8            4      1   \n",
       "1823            7       3       5                8            4      1   \n",
       "\n",
       "      SKILLSGAINED  SKILLMODE  \n",
       "1819            10          1  \n",
       "1820            10          1  \n",
       "1821            10          1  \n",
       "1822            10          1  \n",
       "1823            10          1  "
      ]
     },
     "execution_count": 18,
     "metadata": {},
     "output_type": "execute_result"
    }
   ],
   "source": [
    "df.tail()"
   ]
  },
  {
   "cell_type": "code",
   "execution_count": 19,
   "metadata": {},
   "outputs": [
    {
     "data": {
      "image/png": "[encoded data removed]",
      "text/plain": [
       "<Figure size 1000x500 with 1 Axes>"
      ]
     },
     "metadata": {},
     "output_type": "display_data"
    },
    {
     "name": "stdout",
     "output_type": "stream",
     "text": [
      "Unique K-means labels: [0 1 2]\n",
      "Unique Agglomerative labels: [0 1 2]\n"
     ]
    }
   ],
   "source": [
    "from sklearn.cluster import KMeans, AgglomerativeClustering\n",
    "from scipy.cluster.hierarchy import linkage, dendrogram\n",
    "import matplotlib.pyplot as plt\n",
    "import pandas as pd\n",
    "import numpy as np\n",
    "\n",
    "\n",
    "# K-means clustering\n",
    "kmeans = KMeans(n_clusters=3)\n",
    "kmeans_labels = kmeans.fit_predict(df)\n",
    "\n",
    "# Hierarchical clustering\n",
    "hierarchical = linkage(df, method='complete')\n",
    "plt.figure(figsize=(10, 5))\n",
    "dendrogram(hierarchical)\n",
    "plt.title('Hierarchical Clustering Dendrogram')\n",
    "plt.xlabel('Sample Index')\n",
    "plt.ylabel('Distance')\n",
    "plt.show()\n",
    "\n",
    "# Agglomerative clustering\n",
    "agglomerative = AgglomerativeClustering(n_clusters=3)\n",
    "agglomerative_labels = agglomerative.fit_predict(df)\n",
    "\n",
    "# Print the unique labels\n",
    "unique_kmeans_labels = np.unique(kmeans_labels)\n",
    "unique_agglomerative_labels = np.unique(agglomerative_labels)\n",
    "\n",
    "print(\"Unique K-means labels:\", unique_kmeans_labels)\n",
    "print(\"Unique Agglomerative labels:\", unique_agglomerative_labels)\n"
   ]
  },
  {
   "cell_type": "code",
   "execution_count": null,
   "metadata": {},
   "outputs": [],
   "source": []
  }
 ],
 "metadata": {
  "kernelspec": {
   "display_name": "Python 3 (ipykernel)",
   "language": "python",
   "name": "python3"
  },
  "language_info": {
   "codemirror_mode": {
    "name": "ipython",
    "version": 3
   },
   "file_extension": ".py",
   "mimetype": "text/x-python",
   "name": "python",
   "nbconvert_exporter": "python",
   "pygments_lexer": "ipython3",
   "version": "3.11.5"
  }
 },
 "nbformat": 4,
 "nbformat_minor": 4
}
